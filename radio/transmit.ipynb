{
 "cells": [
  {
   "cell_type": "code",
   "execution_count": 26,
   "metadata": {},
   "outputs": [
    {
     "name": "stdout",
     "output_type": "stream",
     "text": [
      "Using matplotlib backend: MacOSX\n",
      "Populating the interactive namespace from numpy and matplotlib\n"
     ]
    }
   ],
   "source": [
    "%pylab\n",
    "import sounddevice as sd\n",
    "import numpy as np\n",
    "import matplotlib.pyplot as plt\n",
    "%matplotlib inline"
   ]
  },
  {
   "cell_type": "code",
   "execution_count": 27,
   "metadata": {},
   "outputs": [],
   "source": [
    "def encode_manchester(bits):\n",
    "    manchester = np.array([[False, True] if b else [True, False] for b in bits])\n",
    "    manchester = np.reshape(manchester, (-1, 1))\n",
    "    return manchester"
   ]
  },
  {
   "cell_type": "code",
   "execution_count": 28,
   "metadata": {},
   "outputs": [],
   "source": [
    "def generate_am_signal(manchester_encoding, frequency, samp_per_bit, num_samples, samp_rate):\n",
    "    M = np.tile(manchester_encoding,(1,int(samp_per_bit)))\n",
    "    t = r_[0.0:2*num_samples]/samp_rate\n",
    "    am_signal = M.ravel()*np.sin(2*np.pi*frequency*t)\n",
    "    return am_signal, t"
   ]
  },
  {
   "cell_type": "code",
   "execution_count": 69,
   "metadata": {},
   "outputs": [],
   "source": [
    "def transmit(data, samp_rate, baud, frequency, len_preamble, packet_id='11111111', length=44):\n",
    "    preamble = ''.join('1' for _ in range(8))\n",
    "    len_packet = '00' + str(bin(length))[2:]\n",
    "    components = [preamble, packet_id, len_packet, data]\n",
    "    grid = []\n",
    "    for component in components:\n",
    "        grid.append([int(d) for d in component])\n",
    "    grid = np.array(grid)\n",
    "    \n",
    "    col_parity = grid.sum(axis=0) % 2\n",
    "    row_parity = grid.sum(axis=1) % 2\n",
    "    \n",
    "    packet = [d == 1 for d in np.nditer(grid)]\n",
    "    packet += [d == 1 for d in col_parity]\n",
    "    packet += [d == 1 for d in row_parity]\n",
    "    packet = np.array(packet).reshape(-1,1)\n",
    "    \n",
    "    samp_per_bit = samp_rate/baud\n",
    "    num_samples = length * samp_per_bit\n",
    "    manchester = encode_manchester(packet)\n",
    "    am_signal, t = generate_am_signal(manchester, frequency, samp_per_bit, num_samples, samp_rate)\n",
    "    sd.play(am_signal, blocking=True)\n",
    "    return packet, am_signal, t"
   ]
  },
  {
   "cell_type": "code",
   "execution_count": 71,
   "metadata": {},
   "outputs": [
    {
     "name": "stdout",
     "output_type": "stream",
     "text": [
      "[1, 1, 1, 1, 1, 1, 1, 1, 1, 1, 1, 1, 1, 1, 1, 1, 0, 0, 1, 0, 1, 1, 0, 0, 0, 0, 0, 0, 0, 0, 0, 0, 0, 0, 1, 0, 1, 1, 0, 0, 0, 0, 1, 0]\n"
     ]
    },
    {
     "data": {
      "text/plain": [
       "Text(0.5,0,'time [s]')"
      ]
     },
     "execution_count": 71,
     "metadata": {},
     "output_type": "execute_result"
    },
    {
     "data": {
      "image/png": "[encoded data removed]",
      "text/plain": [
       "<matplotlib.figure.Figure at 0x2344f33c8>"
      ]
     },
     "metadata": {},
     "output_type": "display_data"
    }
   ],
   "source": [
    "samp_rate = 44100  # sampling rate\n",
    "baud = 300  # symbol rate\n",
    "len_preamble = 10\n",
    "frequency = int(88.1e6)\n",
    "data ='00000000'\n",
    "\n",
    "bits, am_signal, t = transmit(data, samp_rate, baud, frequency, len_preamble)\n",
    "output = []\n",
    "for b in bits:\n",
    "    if b:\n",
    "        output.append(1)\n",
    "    else:\n",
    "        output.append(0)\n",
    "print(output)\n",
    "fig = figure(figsize = (16,4))\n",
    "plot(t, am_signal)\n",
    "xlabel('time [s]')"
   ]
  },
  {
   "cell_type": "code",
   "execution_count": null,
   "metadata": {},
   "outputs": [],
   "source": []
  },
  {
   "cell_type": "code",
   "execution_count": null,
   "metadata": {},
   "outputs": [],
   "source": []
  }
 ],
 "metadata": {
  "kernelspec": {
   "display_name": "Python 3",
   "language": "python",
   "name": "python3"
  },
  "language_info": {
   "codemirror_mode": {
    "name": "ipython",
    "version": 3
   },
   "file_extension": ".py",
   "mimetype": "text/x-python",
   "name": "python",
   "nbconvert_exporter": "python",
   "pygments_lexer": "ipython3",
   "version": "3.6.1"
  }
 },
 "nbformat": 4,
 "nbformat_minor": 2
}
