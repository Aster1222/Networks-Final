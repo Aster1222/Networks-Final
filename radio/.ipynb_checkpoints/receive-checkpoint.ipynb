{
 "cells": [
  {
   "cell_type": "code",
   "execution_count": 46,
   "metadata": {},
   "outputs": [
    {
     "name": "stdout",
     "output_type": "stream",
     "text": [
      "Using matplotlib backend: MacOSX\n",
      "Populating the interactive namespace from numpy and matplotlib\n"
     ]
    }
   ],
   "source": [
    "%pylab\n",
    "import numpy as np\n",
    "import matplotlib.pyplot as plt\n",
    "from scipy import signal\n",
    "from rtlsdr import RtlSdr\n",
    "%matplotlib inline"
   ]
  },
  {
   "cell_type": "code",
   "execution_count": 47,
   "metadata": {},
   "outputs": [],
   "source": [
    "def configure_sdr(frequency, offset, sample_rate):\n",
    "    sdr = RtlSdr()\n",
    "    center_frequency = frequency - offset # Capture center frequency  \n",
    "    sdr.sample_rate = sample_rate\n",
    "    sdr.center_freq = center_frequency\n",
    "    sdr.gain = 'auto'\n",
    "    return sdr"
   ]
  },
  {
   "cell_type": "code",
   "execution_count": null,
   "metadata": {},
   "outputs": [],
   "source": [
    "def collect_samples(sdr, num_samples):\n",
    "    samples = sdr.read_samples(N)\n",
    "    sdr.close()  \n",
    "    del(sdr)\n",
    "    return samples"
   ]
  },
  {
   "cell_type": "code",
   "execution_count": 1,
   "metadata": {},
   "outputs": [],
   "source": [
    "def fm_demodulate(samples, frequency, offset, samp_rate):\n",
    "    x1 = np.array(samples).astype(\"complex64\")\n",
    "    # To mix the data down, generate a digital complex exponential \n",
    "    # (with the same length as x1) with phase -F_offset/Fs\n",
    "    fc1 = np.exp(-1.0j*2.0*np.pi* offset/samp_rate*np.arange(len(x1)))  \n",
    "    # Now, just multiply x1 and the digital complex expontential\n",
    "    x2 = x1 * fc1  \n",
    "\n",
    "    # An FM broadcast signal has  a bandwidth of 200 kHz\n",
    "    f_bw = 200000  \n",
    "    n_taps = 64  \n",
    "    # Use Remez algorithm to design filter coefficients\n",
    "    lpf = signal.remez(n_taps, [0, f_bw, f_bw+(samp_rate/2-f_bw)/4, Fs/2], [1,0], Hz=samp_rate)  \n",
    "    x3 = signal.lfilter(lpf, 1.0, x2)\n",
    "\n",
    "    dec_rate = int(samp_rate / f_bw)  \n",
    "    x4 = x3[0::dec_rate]  \n",
    "    # Calculate the new sampling rate\n",
    "    new_samp_rate = samp_rate/dec_rate  \n",
    "\n",
    "    ### Polar discriminator\n",
    "    y5 = x4[1:] * np.conj(x4[:-1])  \n",
    "    x5 = np.angle(y5)  \n",
    "\n",
    "    # The de-emphasis filter\n",
    "    d = new_samp_rate * 75e-6   # Calculate the # of samples to hit the -3dB point  \n",
    "    x = np.exp(-1/d)            # Calculate the decay between each sample  \n",
    "    b = [1-x]                   # Create the filter coefficients  \n",
    "    a = [1,-x]  \n",
    "    x6 = signal.lfilter(b,a,x5)  \n",
    "\n",
    "    # Find a decimation rate to achieve audio sampling rate between 44-48 kHz\n",
    "    audio_freq = 44100.0  \n",
    "    dec_audio = int(new_samp_rate/audio_freq)  \n",
    "    Fs_audio = new_samp_rate / dec_audio\n",
    "\n",
    "    x7 = signal.decimate(x6, dec_audio)  \n",
    "    return x7, Fs_audio"
   ]
  },
  {
   "cell_type": "code",
   "execution_count": 2,
   "metadata": {},
   "outputs": [],
   "source": [
    "def smooth(x,window_len=11,window='hanning'):\n",
    "    s=np.r_[x[window_len-1:0:-1],x,x[-2:-window_len-1:-1]]\n",
    "    if window == 'flat': #moving average\n",
    "        w=np.ones(window_len,'d')\n",
    "    else:\n",
    "        w=eval('numpy.'+window+'(window_len)')\n",
    "\n",
    "    y=np.convolve(w/w.sum(),s,mode='valid')\n",
    "    return y"
   ]
  },
  {
   "cell_type": "code",
   "execution_count": 3,
   "metadata": {},
   "outputs": [],
   "source": [
    "def detect_transmission_start(wave, start_threshold):\n",
    "    for i, s in enumerate(wave):\n",
    "        if s > start_threshold:\n",
    "            start = i - 100\n",
    "            return start"
   ]
  },
  {
   "cell_type": "code",
   "execution_count": 4,
   "metadata": {},
   "outputs": [],
   "source": [
    "def get_envelope(wave):\n",
    "    analytical_signal = signal.hilbert(smooth(np.abs(x8), window_len=21, window='flat'))[start:stop]\n",
    "    envelope = np.abs(analytical_signal)\n",
    "    return envelope"
   ]
  },
  {
   "cell_type": "code",
   "execution_count": 5,
   "metadata": {},
   "outputs": [],
   "source": [
    "def binary_slicer(envelope):\n",
    "    avg = np.average(envelope)\n",
    "    sliced = [1 if x > avg else 0 for x in envelope]\n",
    "    return sliced"
   ]
  },
  {
   "cell_type": "code",
   "execution_count": 8,
   "metadata": {},
   "outputs": [],
   "source": [
    "def decode_manchester(square_wave, samp_per_bit, threshold=None):\n",
    "    if threshold is None:\n",
    "        threshold = samp_per_bit/1.2\n",
    "        \n",
    "    transitions = []\n",
    "    for i in range(len(sqaure_wave)-1):\n",
    "        if sqaure_wave[i] == 1 and square_wave[i+1] == 0:\n",
    "            transitions.append((i, 0))\n",
    "        if square_wave[i] == 0 and square_wave[i+1] == 1:\n",
    "            transitions.append((i, 1))\n",
    "\n",
    "    valid_transitions = [transitions[0]]\n",
    "    for t, b in transitions[1:]:\n",
    "        if np.abs(valid_transitions[-1][0] + (2*samp_per_bit) - t) < threshold:\n",
    "            valid_transitions.append((t, b))\n",
    "\n",
    "    bits = [b for _, b in valid_transitions]\n",
    "    return bits"
   ]
  },
  {
   "cell_type": "code",
   "execution_count": 55,
   "metadata": {},
   "outputs": [
    {
     "name": "stdout",
     "output_type": "stream",
     "text": [
      "[1, 0, 1, 0, 1, 0, 1, 0, 1, 0, 0, 0, 0, 0, 1, 0, 1, 0, 1, 1]\n"
     ]
    }
   ],
   "source": [
    "frequency = int(88.1e6)  # Pick a radio station  \n",
    "offset = 250000         # Offset to capture at  \n",
    "samp_rate = 1140000         # Sample rate  \n",
    "num_samples = 8192000           # Samples to capture  \n",
    "baud = 300\n",
    "samp_per_bit = samp_rate/baud\n",
    "n_bits = 20\n",
    "\n",
    "sdr = configure_sdr(frequency, offset, samp_rate, num_samples)\n",
    "samples = collect_samples(sdr, num_samples)\n",
    "fm_demodulated_wave, samp_rate = fm_demodulate(samples)\n",
    "plt.plot(fm_demodulated_wave[::10])\n"
   ]
  },
  {
   "cell_type": "code",
   "execution_count": null,
   "metadata": {},
   "outputs": [],
   "source": [
    "fm_demodulated_wave = fm_demodulated_wave[1000:]\n",
    "start_threshold = .25\n",
    "start = detect_transmission_start(fm_demodulated_wave, start_threshold)\n",
    "stop = start + int(2 * samp_per_bit * n_bits)\n",
    "fm_demodulated_wave = fm_demodulated_wave[start:stop]\n",
    "smoothed_wave = smooth(np.abs(fm_demodulated_wave), window_len=21, window='flat')\n",
    "plt.plot(smoothed_wave[::10])"
   ]
  },
  {
   "cell_type": "code",
   "execution_count": null,
   "metadata": {},
   "outputs": [],
   "source": [
    "envelope = get_envelope(smoothed_wave)\n",
    "square_wave = binary_slicer\n",
    "plt.plot(envelope)"
   ]
  }
 ],
 "metadata": {
  "kernelspec": {
   "display_name": "Python 3",
   "language": "python",
   "name": "python3"
  },
  "language_info": {
   "codemirror_mode": {
    "name": "ipython",
    "version": 3
   },
   "file_extension": ".py",
   "mimetype": "text/x-python",
   "name": "python",
   "nbconvert_exporter": "python",
   "pygments_lexer": "ipython3",
   "version": "3.6.1"
  }
 },
 "nbformat": 4,
 "nbformat_minor": 2
}
