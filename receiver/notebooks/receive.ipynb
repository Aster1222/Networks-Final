{
 "cells": [
  {
   "cell_type": "code",
   "execution_count": 1,
   "metadata": {},
   "outputs": [
    {
     "name": "stdout",
     "output_type": "stream",
     "text": [
      "Using matplotlib backend: MacOSX\n",
      "Populating the interactive namespace from numpy and matplotlib\n"
     ]
    }
   ],
   "source": [
    "%pylab\n",
    "import importlib.util\n",
    "import sys\n",
    "sys.path.append('/Users/collinshuff/Documents/UVa-Fall18/CS4457/Networks-Final/receiver/')\n",
    "from receive import *\n",
    "import scipy.fftpack\n",
    "import matplotlib.pyplot as plt\n",
    "%matplotlib inline"
   ]
  },
  {
   "cell_type": "code",
   "execution_count": 2,
   "metadata": {},
   "outputs": [],
   "source": [
    "frequency = int(88.1e6)  # Pick a radio station  \n",
    "offset = 250000         # Offset to capture at  \n",
    "samp_rate = 2**21         # Sample rate  \n",
    "baud = 300\n",
    "samp_per_bit = samp_rate/baud\n",
    "n_bits = 44"
   ]
  },
  {
   "cell_type": "code",
   "execution_count": 5,
   "metadata": {},
   "outputs": [
    {
     "data": {
      "text/plain": [
       "[<matplotlib.lines.Line2D at 0x22c756208>]"
      ]
     },
     "execution_count": 5,
     "metadata": {},
     "output_type": "execute_result"
    },
    {
     "data": {
      "image/png": "[encoded data removed]",
      "text/plain": [
       "<matplotlib.figure.Figure at 0x11de52a90>"
      ]
     },
     "metadata": {},
     "output_type": "display_data"
    }
   ],
   "source": [
    "time = 1542489238\n",
    "end = 1542489240\n",
    "path = '/Users/collinshuff/Documents/UVa-Fall18/CS4457/Networks-Final/receiver/samples'\n",
    "samples = np.load(f'{path}/{time}.npy')\n",
    "time += 1\n",
    "while time <= end:\n",
    "    samples = np.concatenate([samples, np.load(f'{path}/{time}.npy')])\n",
    "    time += 1\n",
    "\n",
    "fm_demodulated_wave, new_samp_rate = fm_demodulate(samples, frequency, offset, samp_rate)\n",
    "plt.plot(fm_demodulated_wave)"
   ]
  },
  {
   "cell_type": "code",
   "execution_count": 6,
   "metadata": {},
   "outputs": [
    {
     "name": "stdout",
     "output_type": "stream",
     "text": [
      "max around carrier freq: 441266.24061524955\n",
      "False\n"
     ]
    },
    {
     "data": {
      "image/png": "[encoded data removed]",
      "text/plain": [
       "<matplotlib.figure.Figure at 0x21e33bc18>"
      ]
     },
     "metadata": {},
     "output_type": "display_data"
    }
   ],
   "source": [
    "samples = samples[:samp_rate]\n",
    "fft = scipy.fftpack.fft(samples)\n",
    "freqs = scipy.fftpack.fftfreq(len(samples)) * samp_rate\n",
    "plt.plot(freqs, np.abs(fft))\n",
    "print(detect_transmitter_on(samples, samp_rate, offset))"
   ]
  },
  {
   "cell_type": "code",
   "execution_count": null,
   "metadata": {},
   "outputs": [],
   "source": []
  }
 ],
 "metadata": {
  "kernelspec": {
   "display_name": "Python 3",
   "language": "python",
   "name": "python3"
  },
  "language_info": {
   "codemirror_mode": {
    "name": "ipython",
    "version": 3
   },
   "file_extension": ".py",
   "mimetype": "text/x-python",
   "name": "python",
   "nbconvert_exporter": "python",
   "pygments_lexer": "ipython3",
   "version": "3.6.1"
  }
 },
 "nbformat": 4,
 "nbformat_minor": 2
}
